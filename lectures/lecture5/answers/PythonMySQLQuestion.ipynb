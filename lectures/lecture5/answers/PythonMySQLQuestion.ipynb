{
 "cells": [
  {
   "cell_type": "code",
   "execution_count": 2,
   "metadata": {},
   "outputs": [
    {
     "name": "stdout",
     "output_type": "stream",
     "text": [
      "EE 30000.000000\n",
      "ME 40000.000000\n",
      "PR 20000.000000\n",
      "SA 50000.000000\n"
     ]
    }
   ],
   "source": [
    "import mysql.connector\n",
    "try:\n",
    "    cnx = mysql.connector.connect(user='rlawrenc', password='test', host='cosc304.ok.ubc.ca', database='workson')\n",
    "    cursor = cnx.cursor()\n",
    "    query = (\"SELECT title, AVG(salary) as avgSalary FROM emp WHERE ename >= 'J' GROUP BY title\")                \n",
    "    cursor.execute(query)\n",
    "    for (title, avgSalary) in cursor:\n",
    "        print(title, avgSalary)\n",
    "    cursor.close()\n",
    "except mysql.connector.Error as err:  \n",
    "    print(err)\n",
    "finally:\n",
    "    cnx.close()\n"
   ]
  },
  {
   "cell_type": "code",
   "execution_count": null,
   "metadata": {},
   "outputs": [],
   "source": []
  }
 ],
 "metadata": {
  "kernelspec": {
   "display_name": "Python 3",
   "language": "python",
   "name": "python3"
  },
  "language_info": {
   "codemirror_mode": {
    "name": "ipython",
    "version": 3
   },
   "file_extension": ".py",
   "mimetype": "text/x-python",
   "name": "python",
   "nbconvert_exporter": "python",
   "pygments_lexer": "ipython3",
   "version": "3.6.4"
  }
 },
 "nbformat": 4,
 "nbformat_minor": 2
}
