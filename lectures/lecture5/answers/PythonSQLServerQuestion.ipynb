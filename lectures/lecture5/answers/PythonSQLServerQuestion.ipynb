{
 "cells": [
  {
   "cell_type": "code",
   "execution_count": 1,
   "metadata": {},
   "outputs": [
    {
     "name": "stdout",
     "output_type": "stream",
     "text": [
      "Enter total salary:75000\n",
      "('P1   ', Decimal('80000.00'))\n",
      "('P2   ', Decimal('120000.00'))\n",
      "('P3   ', Decimal('80000.00'))\n"
     ]
    }
   ],
   "source": [
    "import pyodbc \n",
    "try:\n",
    "    cnx = pyodbc.connect(\"\"\"DRIVER={ODBC Driver 17 for SQL Server};\n",
    "                            SERVER=sql04.ok.ubc.ca;\n",
    "                            DATABASE=workson;UID=rlawrenc;PWD=test\"\"\")\n",
    "    cursor = cnx.cursor()\n",
    "    totalSalary = int(input(\"Enter total salary:\"))\n",
    "    cursor.execute(\"\"\"SELECT proj.pno, SUM(salary) as totalSalary FROM proj \n",
    "                    JOIN workson ON proj.pno=workson.pno\n",
    "                    JOIN emp ON workson.eno=emp.eno\n",
    "                    GROUP BY proj.pno HAVING SUM(salary) > ?\"\"\", [totalSalary]) \n",
    "    for row in cursor:\n",
    "        print(row)        \n",
    "except pyodbc.Error as err:  \n",
    "    print(err)\n",
    "finally:\n",
    "    cnx.close()\n"
   ]
  },
  {
   "cell_type": "code",
   "execution_count": null,
   "metadata": {},
   "outputs": [],
   "source": []
  }
 ],
 "metadata": {
  "kernelspec": {
   "display_name": "Python 3",
   "language": "python",
   "name": "python3"
  },
  "language_info": {
   "codemirror_mode": {
    "name": "ipython",
    "version": 3
   },
   "file_extension": ".py",
   "mimetype": "text/x-python",
   "name": "python",
   "nbconvert_exporter": "python",
   "pygments_lexer": "ipython3",
   "version": "3.6.4"
  }
 },
 "nbformat": 4,
 "nbformat_minor": 2
}
