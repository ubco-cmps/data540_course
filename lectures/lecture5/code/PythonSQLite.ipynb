{
 "cells": [
  {
   "cell_type": "code",
   "execution_count": 16,
   "metadata": {},
   "outputs": [
    {
     "name": "stdout",
     "output_type": "stream",
     "text": [
      "(1, 'Joe')\n",
      "(2, 'Jen')\n",
      "(3, 'Jeff')\n"
     ]
    }
   ],
   "source": [
    "import sqlite3 \n",
    "try:\n",
    "    cnx = sqlite3.connect(\"test.db\")\n",
    "    cursor = cnx.cursor()\n",
    "    # Create a table\n",
    "    cursor.execute(\"CREATE TABLE test (id int, name text)\") \n",
    "    # INSERT data\n",
    "    cursor.execute(\"INSERT INTO test VALUES(1, 'Joe')\") \n",
    "    cursor.execute(\"INSERT INTO test VALUES(2, 'Jen')\") \n",
    "    cursor.execute(\"INSERT INTO test VALUES(3, 'Jeff')\") \n",
    "    cnx.commit()\n",
    "    # Query data\n",
    "    cursor.execute(\"SELECT * FROM test WHERE name > 'Je'\")\n",
    "    for row in cursor:\n",
    "        print(row) \n",
    "    # Drop table\n",
    "    cursor.execute(\"DROP TABLE test\")     \n",
    "except sqlite3.Error as err:  \n",
    "    print(err)\n",
    "finally:\n",
    "    cnx.close()"
   ]
  },
  {
   "cell_type": "code",
   "execution_count": null,
   "metadata": {},
   "outputs": [],
   "source": []
  }
 ],
 "metadata": {
  "kernelspec": {
   "display_name": "Python 3",
   "language": "python",
   "name": "python3"
  },
  "language_info": {
   "codemirror_mode": {
    "name": "ipython",
    "version": 3
   },
   "file_extension": ".py",
   "mimetype": "text/x-python",
   "name": "python",
   "nbconvert_exporter": "python",
   "pygments_lexer": "ipython3",
   "version": "3.6.4"
  }
 },
 "nbformat": 4,
 "nbformat_minor": 2
}
