{
 "cells": [
  {
   "cell_type": "code",
   "execution_count": 18,
   "metadata": {},
   "outputs": [
    {
     "name": "stdout",
     "output_type": "stream",
     "text": [
      "E1    J. Doe 30000.00\n",
      "E3    A. Lee 40000.00\n",
      "E4    J. Miller 20000.00\n",
      "E6    L. Chu 30000.00\n",
      "E7    R. Davis 40000.00\n"
     ]
    }
   ],
   "source": [
    "import pyodbc \n",
    "try:\n",
    "    cnx = pyodbc.connect(\"\"\"DRIVER={ODBC Driver 17 for SQL Server};SERVER=sql04.ok.ubc.ca;\n",
    "                        DATABASE=workson;UID=rlawrenc;PWD=test\"\"\")\n",
    "    cursor = cnx.cursor()\n",
    "    cursor.execute(\"SELECT * FROM emp WHERE salary < ?\", [50000]) \n",
    "    for row in cursor:\n",
    "        print(row[0],row[1], row.salary)        \n",
    "except pyodbc.Error as err:  \n",
    "    print(err)\n",
    "finally:\n",
    "    cnx.close()\n"
   ]
  },
  {
   "cell_type": "code",
   "execution_count": null,
   "metadata": {},
   "outputs": [],
   "source": []
  }
 ],
 "metadata": {
  "kernelspec": {
   "display_name": "Python 3",
   "language": "python",
   "name": "python3"
  },
  "language_info": {
   "codemirror_mode": {
    "name": "ipython",
    "version": 3
   },
   "file_extension": ".py",
   "mimetype": "text/x-python",
   "name": "python",
   "nbconvert_exporter": "python",
   "pygments_lexer": "ipython3",
   "version": "3.6.4"
  }
 },
 "nbformat": 4,
 "nbformat_minor": 2
}
