{
 "cells": [
  {
   "cell_type": "code",
   "execution_count": 1,
   "metadata": {},
   "outputs": [
    {
     "name": "stdout",
     "output_type": "stream",
     "text": [
      "Success\n"
     ]
    }
   ],
   "source": [
    "import mysql.connector\n",
    "try:\n",
    "    cnx = mysql.connector.connect(user='rlawrenc', password='test', host='cosc304.ok.ubc.ca', database='db_rlawrenc')\n",
    "    cursor = cnx.cursor()\n",
    "    sql = \"INSERT INTO emp (eno, ename, salary) VALUES (%s, %s, %s)\"\n",
    "    cursor.execute(sql, ('E10', 'Test Person', 100000))\n",
    "    \n",
    "    # Update data by committing transaction on connection\n",
    "    cnx.commit()\n",
    "    \n",
    "    # Remove employee just added\n",
    "    sql = \"DELETE FROM emp WHERE eno = 'E10'\"\n",
    "    cursor.execute(sql)\n",
    "    cursor.close()\n",
    "    cnx.commit()\n",
    "    print(\"Success\")\n",
    "except mysql.connector.Error as err:  \n",
    "    print(err)\n",
    "finally:\n",
    "    cnx.close()"
   ]
  },
  {
   "cell_type": "code",
   "execution_count": null,
   "metadata": {},
   "outputs": [],
   "source": []
  }
 ],
 "metadata": {
  "kernelspec": {
   "display_name": "Python 3",
   "language": "python",
   "name": "python3"
  },
  "language_info": {
   "codemirror_mode": {
    "name": "ipython",
    "version": 3
   },
   "file_extension": ".py",
   "mimetype": "text/x-python",
   "name": "python",
   "nbconvert_exporter": "python",
   "pygments_lexer": "ipython3",
   "version": "3.6.4"
  }
 },
 "nbformat": 4,
 "nbformat_minor": 2
}
